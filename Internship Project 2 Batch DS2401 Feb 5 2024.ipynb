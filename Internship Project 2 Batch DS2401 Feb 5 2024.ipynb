{
 "cells": [
  {
   "cell_type": "markdown",
   "id": "f32b9a15",
   "metadata": {},
   "source": [
    "# Regular Expressions"
   ]
  },
  {
   "cell_type": "code",
   "execution_count": 2,
   "id": "9b3065e8",
   "metadata": {},
   "outputs": [
    {
     "ename": "SyntaxError",
     "evalue": "invalid syntax (3352941203.py, line 3)",
     "output_type": "error",
     "traceback": [
      "\u001b[1;36m  Cell \u001b[1;32mIn[2], line 3\u001b[1;36m\u001b[0m\n\u001b[1;33m    Sample Text- 'Python Exercises, PHP exercises.'\u001b[0m\n\u001b[1;37m           ^\u001b[0m\n\u001b[1;31mSyntaxError\u001b[0m\u001b[1;31m:\u001b[0m invalid syntax\n"
     ]
    }
   ],
   "source": [
    "#Question 1. Write a Python program to replace all occurrences of a space, comma, or dot with a colon.\n",
    "\n",
    "Sample Text- 'Python Exercises, PHP exercises.'\n",
    "Expected Output: Python:Exercises::PHP:exercises:\n",
    "\n",
    "I am writting this >in next lines '' Bhagyashree Choudhary, is my full name. ''\n",
    "\n"
   ]
  },
  {
   "cell_type": "code",
   "execution_count": 3,
   "id": "40fcc093",
   "metadata": {},
   "outputs": [],
   "source": [
    "Sample_Text='Bhagyashree Choudhary, is my full name.'"
   ]
  },
  {
   "cell_type": "code",
   "execution_count": 4,
   "id": "a2318546",
   "metadata": {},
   "outputs": [],
   "source": [
    "def replace_characters(input_text):\n",
    "    characters_to_replace = [' ', ',', '.']\n",
    "\n"
   ]
  },
  {
   "cell_type": "code",
   "execution_count": 27,
   "id": "d4e5a92f",
   "metadata": {},
   "outputs": [],
   "source": [
    "sample_text = 'Bhagyashree Choudhary, is my full name.'"
   ]
  },
  {
   "cell_type": "code",
   "execution_count": 28,
   "id": "ed3e107b",
   "metadata": {},
   "outputs": [
    {
     "name": "stdout",
     "output_type": "stream",
     "text": [
      "None\n"
     ]
    }
   ],
   "source": [
    "result_text = replace_characters(sample_text)\n",
    "print(result_text)"
   ]
  },
  {
   "cell_type": "code",
   "execution_count": 29,
   "id": "4d500079",
   "metadata": {},
   "outputs": [],
   "source": [
    "sample_text = 'Bhagyashree Choudhary, is my full name.'"
   ]
  },
  {
   "cell_type": "code",
   "execution_count": 30,
   "id": "1a36d580",
   "metadata": {},
   "outputs": [],
   "source": [
    "characters_to_replace = [' ', ',', '.']"
   ]
  },
  {
   "cell_type": "code",
   "execution_count": 31,
   "id": "523186ff",
   "metadata": {},
   "outputs": [],
   "source": [
    "for char in characters_to_replace:\n",
    "    sample_text = sample_text.replace(char, ':')"
   ]
  },
  {
   "cell_type": "code",
   "execution_count": 32,
   "id": "ebc7e94d",
   "metadata": {},
   "outputs": [
    {
     "name": "stdout",
     "output_type": "stream",
     "text": [
      "Bhagyashree:Choudhary::is:my:full:name:\n"
     ]
    }
   ],
   "source": [
    "print(sample_text)"
   ]
  },
  {
   "cell_type": "code",
   "execution_count": null,
   "id": "a4068438",
   "metadata": {},
   "outputs": [],
   "source": [
    "#Question 2 : -  Create a dataframe using the dictionary below and remove everything (commas (,), !, XXXX, ;, etc.) \n",
    "from the columns except words.\n",
    "\n",
    "Dictionary- {'SUMMARY' : ['hello, world!', 'XXXXX test', '123four, five:; six...']} \n",
    "\n",
    "Expected output-\n",
    "0      hello world\n",
    "1             test\n",
    "2    four five six\n",
    "\n"
   ]
  },
  {
   "cell_type": "code",
   "execution_count": 33,
   "id": "e2c2ab97",
   "metadata": {},
   "outputs": [],
   "source": [
    "import pandas as pd"
   ]
  },
  {
   "cell_type": "code",
   "execution_count": 34,
   "id": "eda6b195",
   "metadata": {},
   "outputs": [],
   "source": [
    "import re"
   ]
  },
  {
   "cell_type": "code",
   "execution_count": 35,
   "id": "df507534",
   "metadata": {},
   "outputs": [],
   "source": [
    "SampleA = {'SUMMARY': ['hello, world!', 'XXXXX test', '123four, five:; six...']}"
   ]
  },
  {
   "cell_type": "code",
   "execution_count": 36,
   "id": "b7d278c2",
   "metadata": {},
   "outputs": [],
   "source": [
    "df = pd.DataFrame(SampleA)"
   ]
  },
  {
   "cell_type": "code",
   "execution_count": 38,
   "id": "d9c72449",
   "metadata": {},
   "outputs": [],
   "source": [
    "#to remove the char"
   ]
  },
  {
   "cell_type": "code",
   "execution_count": 41,
   "id": "e19849e4",
   "metadata": {},
   "outputs": [],
   "source": [
    "def clean_text(text):\n",
    "    cleaned_text = re.sub(r'[^\\w\\s]', '', text)\n",
    "    return cleaned_text"
   ]
  },
  {
   "cell_type": "code",
   "execution_count": 42,
   "id": "4362772f",
   "metadata": {},
   "outputs": [],
   "source": [
    "df['SUMMARY'] = df['SUMMARY'].apply(clean_text)"
   ]
  },
  {
   "cell_type": "code",
   "execution_count": 43,
   "id": "7a60ca83",
   "metadata": {},
   "outputs": [
    {
     "name": "stdout",
     "output_type": "stream",
     "text": [
      "0         hello world\n",
      "1          XXXXX test\n",
      "2    123four five six\n",
      "Name: SUMMARY, dtype: object\n"
     ]
    }
   ],
   "source": [
    "print(df['SUMMARY'])"
   ]
  },
  {
   "cell_type": "code",
   "execution_count": 45,
   "id": "c98023d5",
   "metadata": {},
   "outputs": [],
   "source": [
    "    #Question 3- Create a function in python to find all words that are at least 4 characters long in a string. \n",
    "    The use of the re.compile() method is mandatory."
   ]
  },
  {
   "cell_type": "code",
   "execution_count": 46,
   "id": "06286079",
   "metadata": {},
   "outputs": [],
   "source": [
    "import re"
   ]
  },
  {
   "cell_type": "code",
   "execution_count": 87,
   "id": "092fa83a",
   "metadata": {},
   "outputs": [],
   "source": [
    "def find_Lwords_words(input_string):\n",
    "    pattern = re.compile(r'\\b\\w{4,}\\b')\n",
    "    \n",
    "    long4_words = pattern.findall(input_string)\n",
    "    \n",
    "    return long4_words\n"
   ]
  },
  {
   "cell_type": "code",
   "execution_count": 94,
   "id": "6705e9cf",
   "metadata": {},
   "outputs": [
    {
     "name": "stdout",
     "output_type": "stream",
     "text": [
      "['Find', 'words', 'that', 'least', 'characters', 'long', 'string']\n"
     ]
    }
   ],
   "source": [
    "input_string = \"Find all words that are at least 4 characters long in a string.\"\n",
    "result = find_Lwords_words(input_string)\n",
    "\n",
    "print(result)"
   ]
  },
  {
   "cell_type": "code",
   "execution_count": null,
   "id": "66fa796b",
   "metadata": {},
   "outputs": [],
   "source": []
  },
  {
   "cell_type": "code",
   "execution_count": 90,
   "id": "320d25fb",
   "metadata": {},
   "outputs": [],
   "source": [
    "#Question 4- Create a function in python to find all three, four, and five character words in a string.\n",
    "The use of the re.compile() method is mandatory."
   ]
  },
  {
   "cell_type": "code",
   "execution_count": 91,
   "id": "38b7d572",
   "metadata": {},
   "outputs": [],
   "source": [
    "import re"
   ]
  },
  {
   "cell_type": "code",
   "execution_count": 93,
   "id": "53ecb675",
   "metadata": {},
   "outputs": [],
   "source": [
    "def find_words_by_356length(input_string):\n",
    "    pattern = re.compile(r'\\b\\w{3,5}\\b')\n",
    "    \n",
    "    llenth = pattern.findall(input_string)\n",
    "    \n",
    "    return llenth"
   ]
  },
  {
   "cell_type": "code",
   "execution_count": 96,
   "id": "12a67d7c",
   "metadata": {},
   "outputs": [
    {
     "name": "stdout",
     "output_type": "stream",
     "text": [
      "['Find', 'all', 'three', 'four', 'and', 'five', 'words']\n"
     ]
    }
   ],
   "source": [
    "input_string = \"Find all three, four, and five character words in a string.\"\n",
    "result = find_words_by_356length(input_string)\n",
    "\n",
    "print(result)"
   ]
  },
  {
   "cell_type": "code",
   "execution_count": null,
   "id": "667cb89b",
   "metadata": {},
   "outputs": [],
   "source": []
  },
  {
   "cell_type": "code",
   "execution_count": null,
   "id": "8207c6a9",
   "metadata": {},
   "outputs": [],
   "source": [
    "#Question 5- Create a function in Python to remove the parenthesis in a list of strings. The use of the re.compile() method is mandatory.\n",
    "\n",
    "Sample Text: [\"example (.com)\", \"hr@fliprobo (.com)\", \"github (.com)\", \"Hello (Data Science World)\", \"Data (Scientist)\"]\n",
    "\n",
    "    Expected Output:\n",
    "example.com\n",
    "hr@fliprobo.com\n",
    "github.com\n",
    "Hello Data Science World\n",
    "Data Scientist\n"
   ]
  },
  {
   "cell_type": "code",
   "execution_count": 97,
   "id": "1c0eb41a",
   "metadata": {},
   "outputs": [],
   "source": [
    "import re\n"
   ]
  },
  {
   "cell_type": "code",
   "execution_count": 98,
   "id": "32f9128b",
   "metadata": {},
   "outputs": [],
   "source": [
    "def remv_parentheses(strings_list):\n",
    "    \n",
    "    pattern = re.compile(r'\\([^)]*\\)')\n",
    "    \n",
    "    expt_result = [pattern.sub('', s) for s in strings_list]\n",
    "    \n",
    "    return expt_result\n"
   ]
  },
  {
   "cell_type": "code",
   "execution_count": 103,
   "id": "0c10b02d",
   "metadata": {},
   "outputs": [
    {
     "name": "stdout",
     "output_type": "stream",
     "text": [
      "example \n",
      "hr@fliprobo\n",
      "github\n",
      "Hello \n",
      "Data \n"
     ]
    }
   ],
   "source": [
    "sample_text = [\"example (.com)\",\"hr@fliprobo(.com)\", \"github(.com)\", \"Hello (Data Science World)\", \"Data (Scientist)\"]\n",
    "result = remv_parentheses(sample_text)\n",
    "\n",
    "for text in result:\n",
    "    print(text)"
   ]
  },
  {
   "cell_type": "code",
   "execution_count": null,
   "id": "39c644a8",
   "metadata": {},
   "outputs": [],
   "source": [
    "# I am not getting the expected results for this question above."
   ]
  },
  {
   "cell_type": "code",
   "execution_count": null,
   "id": "93fbdca4",
   "metadata": {},
   "outputs": [],
   "source": [
    "#Question 6- Write a python program to remove the parenthesis area from the text stored in the text file using Regular Expression.\n",
    "Sample Text: [\"example (.com)\", \"hr@fliprobo (.com)\", \"github (.com)\", \"Hello (Data Science World)\", \"Data (Scientist)\"]\n",
    "Expected Output: [\"example\", \"hr@fliprobo\", \"github\", \"Hello\", \"Data\"]\n",
    "Note- Store given sample text in the text file and then to remove the parenthesis area from the text.\n",
    "\n"
   ]
  },
  {
   "cell_type": "code",
   "execution_count": 104,
   "id": "4fc5e0d0",
   "metadata": {},
   "outputs": [],
   "source": [
    "import re"
   ]
  },
  {
   "cell_type": "code",
   "execution_count": 107,
   "id": "baaef5b0",
   "metadata": {},
   "outputs": [],
   "source": [
    "def remove_parentheses_from_text(file_path):\n",
    "   \n",
    "    with open(file_path, 'r') as file:\n",
    "        text = file.read()"
   ]
  },
  {
   "cell_type": "code",
   "execution_count": null,
   "id": "f86f9163",
   "metadata": {},
   "outputs": [],
   "source": []
  },
  {
   "cell_type": "code",
   "execution_count": 110,
   "id": "60f563ea",
   "metadata": {},
   "outputs": [],
   "source": [
    "pattern = re.compile(r'\\([^)]*\\)')\n"
   ]
  },
  {
   "cell_type": "code",
   "execution_count": 120,
   "id": "4bbdc6e4",
   "metadata": {},
   "outputs": [
    {
     "name": "stdout",
     "output_type": "stream",
     "text": [
      "['example \\n', 'hr@fliprobo \\n', 'github \\n', 'Hello \\n', 'Data \\n']\n"
     ]
    }
   ],
   "source": [
    "import re\n",
    "\n",
    "def remove_parentheses_from_text(text_path):\n",
    "    with open(text_path, 'r') as file:\n",
    "        text = file.read()\n",
    "\n",
    "    \n",
    "    pattern = re.compile(r'\\([^)]*\\)')\n",
    "\n",
    "    \n",
    "    modified_text = pattern.sub('', text)\n",
    "\n",
    "    \n",
    "    with open(text_path, 'w') as file:\n",
    "        file.write(modified_text)\n",
    "\n",
    "# Example:\n",
    "text_path = 'sample_text.txt'\n",
    "sample_text = [\"example (.com)\", \"hr@fliprobo (.com)\", \"github (.com)\", \"Hello (Data Science World)\", \"Data (Scientist)\"]\n",
    "\n",
    "\n",
    "with open(text_path, 'w') as file:\n",
    "    for line in sample_text:\n",
    "        file.write(line + '\\n')\n",
    "\n",
    "\n",
    "remove_parentheses_from_file(text_path)\n",
    "\n",
    "with open(text_path, 'r') as file:\n",
    "    modified_text = file.readlines()\n",
    "\n",
    "print(modified_text)\n"
   ]
  },
  {
   "cell_type": "code",
   "execution_count": null,
   "id": "a61bc6cf",
   "metadata": {},
   "outputs": [],
   "source": []
  },
  {
   "cell_type": "code",
   "execution_count": null,
   "id": "411b22d0",
   "metadata": {},
   "outputs": [],
   "source": [
    "#Question 7- Write a regular expression in Python to split a string into uppercase letters.\n",
    "Sample text: “ImportanceOfRegularExpressionsInPython”\n",
    "Expected Output: [‘Importance’, ‘Of’, ‘Regular’, ‘Expression’, ‘In’, ‘Python’]\n"
   ]
  },
  {
   "cell_type": "code",
   "execution_count": 121,
   "id": "705a0e12",
   "metadata": {},
   "outputs": [],
   "source": [
    "import re\n",
    "\n",
    "sample_text = \"ImportanceOfRegularExpressionsInPython\""
   ]
  },
  {
   "cell_type": "code",
   "execution_count": 122,
   "id": "2d5a9178",
   "metadata": {},
   "outputs": [],
   "source": [
    "pattern = re.compile(r'[A-Z][a-z]*')"
   ]
  },
  {
   "cell_type": "code",
   "execution_count": 123,
   "id": "ded7b31e",
   "metadata": {},
   "outputs": [
    {
     "name": "stdout",
     "output_type": "stream",
     "text": [
      "['Importance', 'Of', 'Regular', 'Expressions', 'In', 'Python']\n"
     ]
    }
   ],
   "source": [
    "result = pattern.findall(sample_text)\n",
    "\n",
    "print(result)"
   ]
  },
  {
   "cell_type": "code",
   "execution_count": null,
   "id": "81319664",
   "metadata": {},
   "outputs": [],
   "source": []
  },
  {
   "cell_type": "code",
   "execution_count": null,
   "id": "f40f68f2",
   "metadata": {},
   "outputs": [],
   "source": [
    "#Question 8- Create a function in python to insert spaces between words starting with numbers.\n",
    "Sample Text: “RegularExpression1IsAn2ImportantTopic3InPython\"\n",
    "Expected Output: RegularExpression 1IsAn 2ImportantTopic 3InPython\n"
   ]
  },
  {
   "cell_type": "code",
   "execution_count": null,
   "id": "859053ca",
   "metadata": {},
   "outputs": [],
   "source": []
  },
  {
   "cell_type": "code",
   "execution_count": 125,
   "id": "e317e43e",
   "metadata": {},
   "outputs": [],
   "source": [
    "def insert_spaces(text):\n",
    "    pattern = re.compile(r'(?<=[a-zA-Z])(\\d)')\n",
    "    result = pattern.sub(r' \\1', text)\n",
    "    return result"
   ]
  },
  {
   "cell_type": "code",
   "execution_count": 126,
   "id": "86e74553",
   "metadata": {},
   "outputs": [
    {
     "name": "stdout",
     "output_type": "stream",
     "text": [
      "ImportanceOfRegularExpressionsInPython\n"
     ]
    }
   ],
   "source": [
    "given_sample_text = \"RegularExpression1IsAn2ImportantTopic3InPython\"\n",
    "\n",
    "result = insert_spaces(sample_text)\n",
    "\n",
    "print(result)"
   ]
  },
  {
   "cell_type": "code",
   "execution_count": null,
   "id": "fedf5933",
   "metadata": {},
   "outputs": [],
   "source": [
    "# this is 2nd issue I am facing > not getting the expected results. "
   ]
  },
  {
   "cell_type": "code",
   "execution_count": null,
   "id": "d7327d52",
   "metadata": {},
   "outputs": [],
   "source": []
  },
  {
   "cell_type": "code",
   "execution_count": null,
   "id": "d72987be",
   "metadata": {},
   "outputs": [],
   "source": [
    "\n",
    "# Question 9- Create a function in python to insert spaces between words starting with capital letters or with numbers.\n",
    "Sample Text: “RegularExpression1IsAn2ImportantTopic3InPython\"\n",
    "Expected Output:  RegularExpression 1 IsAn 2 ImportantTopic 3 InPython\n"
   ]
  },
  {
   "cell_type": "code",
   "execution_count": 127,
   "id": "d60e3192",
   "metadata": {},
   "outputs": [],
   "source": [
    "import re"
   ]
  },
  {
   "cell_type": "code",
   "execution_count": 128,
   "id": "2960adaa",
   "metadata": {},
   "outputs": [],
   "source": [
    "def insert_spaces(text):\n",
    "    pattern = re.compile(r'(?<=[a-zA-Z0-9])([A-Z0-9])')\n",
    "    result = pattern.sub(r' \\1', text)\n",
    "    return result"
   ]
  },
  {
   "cell_type": "code",
   "execution_count": 129,
   "id": "cd6ff45b",
   "metadata": {},
   "outputs": [],
   "source": [
    "sample_text = \"RegularExpression1IsAn2ImportantTopic3InPython\""
   ]
  },
  {
   "cell_type": "code",
   "execution_count": 130,
   "id": "05d15bd3",
   "metadata": {},
   "outputs": [],
   "source": [
    "result = insert_spaces(sample_text)"
   ]
  },
  {
   "cell_type": "code",
   "execution_count": 131,
   "id": "e2861b04",
   "metadata": {},
   "outputs": [
    {
     "name": "stdout",
     "output_type": "stream",
     "text": [
      "Regular Expression 1 Is An 2 Important Topic 3 In Python\n"
     ]
    }
   ],
   "source": [
    "print(result)"
   ]
  },
  {
   "cell_type": "code",
   "execution_count": null,
   "id": "7d0c66cc",
   "metadata": {},
   "outputs": [],
   "source": []
  },
  {
   "cell_type": "code",
   "execution_count": null,
   "id": "3d6ea856",
   "metadata": {},
   "outputs": [],
   "source": [
    "#Question 10- Use the github link below to read the data and create a dataframe. After creating the dataframe extract the first 6 letters of each country and store in \n",
    "the dataframe under a new column called first_five_letters.\n",
    "\n",
    "Github Link-  https://raw.githubusercontent.com/dsrscientist/DSData/master/happiness_score_dataset.csv"
   ]
  },
  {
   "cell_type": "code",
   "execution_count": 132,
   "id": "beaea47d",
   "metadata": {},
   "outputs": [],
   "source": [
    "import pandas as pd"
   ]
  },
  {
   "cell_type": "code",
   "execution_count": 133,
   "id": "aa214901",
   "metadata": {},
   "outputs": [
    {
     "name": "stdout",
     "output_type": "stream",
     "text": [
      "       Country          Region  Happiness Rank  Happiness Score  \\\n",
      "0  Switzerland  Western Europe               1            7.587   \n",
      "1      Iceland  Western Europe               2            7.561   \n",
      "2      Denmark  Western Europe               3            7.527   \n",
      "3       Norway  Western Europe               4            7.522   \n",
      "4       Canada   North America               5            7.427   \n",
      "\n",
      "   Standard Error  Economy (GDP per Capita)   Family  \\\n",
      "0         0.03411                   1.39651  1.34951   \n",
      "1         0.04884                   1.30232  1.40223   \n",
      "2         0.03328                   1.32548  1.36058   \n",
      "3         0.03880                   1.45900  1.33095   \n",
      "4         0.03553                   1.32629  1.32261   \n",
      "\n",
      "   Health (Life Expectancy)  Freedom  Trust (Government Corruption)  \\\n",
      "0                   0.94143  0.66557                        0.41978   \n",
      "1                   0.94784  0.62877                        0.14145   \n",
      "2                   0.87464  0.64938                        0.48357   \n",
      "3                   0.88521  0.66973                        0.36503   \n",
      "4                   0.90563  0.63297                        0.32957   \n",
      "\n",
      "   Generosity  Dystopia Residual first_five_letters  \n",
      "0     0.29678            2.51738             Switze  \n",
      "1     0.43630            2.70201             Icelan  \n",
      "2     0.34139            2.49204             Denmar  \n",
      "3     0.34699            2.46531             Norway  \n",
      "4     0.45811            2.45176             Canada  \n"
     ]
    }
   ],
   "source": [
    "github_link = \"https://raw.githubusercontent.com/dsrscientist/DSData/master/happiness_score_dataset.csv\"\n",
    "\n",
    "df = pd.read_csv(github_link)\n",
    "\n",
    "df['first_five_letters'] = df['Country'].str[:6]\n",
    "\n",
    "print(df.head())"
   ]
  },
  {
   "cell_type": "code",
   "execution_count": 134,
   "id": "599cdc70",
   "metadata": {},
   "outputs": [
    {
     "name": "stdout",
     "output_type": "stream",
     "text": [
      "Requirement already satisfied: pandas in c:\\users\\bhagyashree\\anaconda3\\lib\\site-packages (1.5.3)\n",
      "Requirement already satisfied: python-dateutil>=2.8.1 in c:\\users\\bhagyashree\\anaconda3\\lib\\site-packages (from pandas) (2.8.2)\n",
      "Requirement already satisfied: pytz>=2020.1 in c:\\users\\bhagyashree\\anaconda3\\lib\\site-packages (from pandas) (2022.7)\n",
      "Requirement already satisfied: numpy>=1.21.0 in c:\\users\\bhagyashree\\anaconda3\\lib\\site-packages (from pandas) (1.24.3)\n",
      "Requirement already satisfied: six>=1.5 in c:\\users\\bhagyashree\\anaconda3\\lib\\site-packages (from python-dateutil>=2.8.1->pandas) (1.16.0)\n",
      "Note: you may need to restart the kernel to use updated packages.\n"
     ]
    }
   ],
   "source": []
  },
  {
   "cell_type": "code",
   "execution_count": null,
   "id": "e81091fd",
   "metadata": {},
   "outputs": [],
   "source": []
  },
  {
   "cell_type": "code",
   "execution_count": null,
   "id": "200415d5",
   "metadata": {},
   "outputs": [],
   "source": [
    "#Question 11- Write a Python program to match a string that contains only upper and lowercase letters, numbers, and underscores."
   ]
  },
  {
   "cell_type": "code",
   "execution_count": 136,
   "id": "d570b73e",
   "metadata": {},
   "outputs": [
    {
     "name": "stdout",
     "output_type": "stream",
     "text": [
      "Is 'Valid_String_123' a valid string? True\n",
      "Is 'Invalid_String@123' a valid string? False\n"
     ]
    }
   ],
   "source": [
    "import re\n",
    "\n",
    "def match_string(input_string):\n",
    "    pattern = re.compile(r'^[a-zA-Z0-9_]+$')\n",
    "    match = pattern.match(input_string)\n",
    "    return bool(match)\n",
    "\n",
    "sample_str1 = \"Valid_String_123\"\n",
    "sample_str2 = \"Invalid_String@123\"\n",
    "\n",
    "print(f\"Is '{sample_str1}' a valid string? {match_string(sample_str1)}\")\n",
    "print(f\"Is '{sample_str2}' a valid string? {match_string(sample_str2)}\")\n"
   ]
  },
  {
   "cell_type": "code",
   "execution_count": null,
   "id": "d8cee58d",
   "metadata": {},
   "outputs": [],
   "source": []
  },
  {
   "cell_type": "code",
   "execution_count": null,
   "id": "067568ba",
   "metadata": {},
   "outputs": [],
   "source": [
    "#Question 12- Write a Python program where a string will start with a specific number. "
   ]
  },
  {
   "cell_type": "code",
   "execution_count": 139,
   "id": "010af78e",
   "metadata": {},
   "outputs": [
    {
     "name": "stdout",
     "output_type": "stream",
     "text": [
      "Does '123HelloWorld' start with 123? True\n",
      "Does '456PythonCode' start with 789? False\n"
     ]
    }
   ],
   "source": [
    "def starts_with_numerics(input_str, target_num):\n",
    "   \n",
    "    return input_str.startswith(str(target_num))\n",
    "\n",
    "# Test the program\n",
    "tst_string1 = \"123HelloWorld\"\n",
    "tst_string2 = \"456PythonCode\"\n",
    "target_num1 = 123\n",
    "target_num2 = 789\n",
    "\n",
    "print(f\"Does '{tst_string1}' start with {target_num1}? {starts_with_numerics(tst_string1, target_num1)}\")\n",
    "print(f\"Does '{tst_string2}' start with {target_num2}? {starts_with_numerics(tst_string2, target_num2)}\")\n"
   ]
  },
  {
   "cell_type": "code",
   "execution_count": null,
   "id": "13708220",
   "metadata": {},
   "outputs": [],
   "source": []
  },
  {
   "cell_type": "code",
   "execution_count": null,
   "id": "c443eec1",
   "metadata": {},
   "outputs": [],
   "source": [
    "#Question 13- Write a Python program to remove leading zeros from an IP address"
   ]
  },
  {
   "cell_type": "code",
   "execution_count": null,
   "id": "cf120f96",
   "metadata": {},
   "outputs": [],
   "source": []
  },
  {
   "cell_type": "code",
   "execution_count": 141,
   "id": "e2cbc800",
   "metadata": {},
   "outputs": [
    {
     "name": "stdout",
     "output_type": "stream",
     "text": [
      "Original IP: 192.168.001.001\n",
      "Cleared IP: 192.168.1.1\n"
     ]
    }
   ],
   "source": [
    "def to_remove_leading_zeros(ip_address):\n",
    "   \n",
    "    octets = ip_address.split('.')\n",
    "\n",
    "   \n",
    "    cleared_octets = [str(int(octet)) for octet in octets]\n",
    "\n",
    "   \n",
    "    cleared_ip_address = '.'.join(cleared_octets)\n",
    "\n",
    "    return cleared_ip_address\n",
    "\n",
    "\n",
    "original_ip = \"192.168.001.001\"\n",
    "cleared_ip = to_remove_leading_zeros(original_ip)\n",
    "\n",
    "print(f\"Original IP: {original_ip}\")\n",
    "print(f\"Cleared IP: {cleared_ip}\")\n"
   ]
  },
  {
   "cell_type": "code",
   "execution_count": null,
   "id": "943ae9a9",
   "metadata": {},
   "outputs": [],
   "source": []
  },
  {
   "cell_type": "code",
   "execution_count": null,
   "id": "a8c13b27",
   "metadata": {},
   "outputs": [],
   "source": [
    "#Question 14- Write a regular expression in python to match a date string in the form of Month name followed by day number \n",
    "and year stored in a text file.\n",
    "Sample text :  ' On August 15th 1947 that India was declared independent from British colonialism, and the reins of control \n",
    "    were handed over to the leaders of the Country’.\n",
    "Expected Output- August 15th 1947\n",
    "Note- Store given sample text in the text file and then extract the date string asked format.\n"
   ]
  },
  {
   "cell_type": "code",
   "execution_count": 149,
   "id": "6745297c",
   "metadata": {},
   "outputs": [
    {
     "ename": "SyntaxError",
     "evalue": "unexpected character after line continuation character (549431970.py, line 3)",
     "output_type": "error",
     "traceback": [
      "\u001b[1;36m  Cell \u001b[1;32mIn[149], line 3\u001b[1;36m\u001b[0m\n\u001b[1;33m    def extract_date_from_text(C:\\Users\\Bhagyashree\\Documents\\OneNote Notebooks\\Sample Txt file):\u001b[0m\n\u001b[1;37m                                  ^\u001b[0m\n\u001b[1;31mSyntaxError\u001b[0m\u001b[1;31m:\u001b[0m unexpected character after line continuation character\n"
     ]
    }
   ],
   "source": [
    "import re\n",
    "\n",
    "def extract_date_from_text(C:\\Users\\Bhagyashree\\Documents\\OneNote Notebooks\\Sample Txt file):\n",
    "    with open(C:\\Users\\Bhagyashree\\Documents\\OneNote Notebooks\\Sample Txt file, 'r') as file:\n",
    "        text = file.read()\n",
    "\n",
    "    \n",
    "    pattern = re.compile(r'\\b(?:January|February|March|April|May|June|July|August|September|October|November|December)\\s+\\d{1,2}(?:st|nd|rd|th)\\s+\\d{4}\\b')\n",
    "\n",
    "    # Search for the pattern in the text\n",
    "    match = pattern.search(text)\n",
    "\n",
    "    if match:\n",
    "        return match.group(0)\n",
    "    else:\n",
    "        return \"No matching date found.\"\n",
    "\n",
    "\n",
    "r = \"sample_text_file.txt\"\n",
    "\n",
    "# Call the function and print the result\n",
    "result = extract_date_from_text(r)\n",
    "print(\"Extracted Date:\", result)\n"
   ]
  },
  {
   "cell_type": "code",
   "execution_count": null,
   "id": "4428f347",
   "metadata": {},
   "outputs": [],
   "source": [
    "#Question 15- Write a Python program to search some literals strings in a string. \n",
    "Sample text : 'The quick brown fox jumps over the lazy dog.'\n",
    "Searched words : 'fox', 'dog', 'horse'\n"
   ]
  },
  {
   "cell_type": "code",
   "execution_count": 153,
   "id": "8fbd82de",
   "metadata": {},
   "outputs": [
    {
     "name": "stdout",
     "output_type": "stream",
     "text": [
      "Sample Text: The quick brown fox jumps over the lazy dog.\n",
      "Searched Words: ['fox', 'dog', 'horse']\n",
      "Found Words: ['fox', 'dog']\n"
     ]
    }
   ],
   "source": [
    "def search_literals(given_sample_text, given_searched_words):\n",
    "    resulted_found_words = [word for word in given_searched_words if word in given_sample_text]\n",
    "    return resulted_found_words\n",
    "\n",
    "\n",
    "given_sample_text = 'The quick brown fox jumps over the lazy dog.'\n",
    "\n",
    "\n",
    "given_searched_words = ['fox', 'dog', 'horse']\n",
    "\n",
    "\n",
    "resulted_found_words = search_literals(given_sample_text, given_searched_words)\n",
    "\n",
    "print(\"Sample Text:\", given_sample_text)\n",
    "print(\"Searched Words:\", given_searched_words)\n",
    "print(\"Found Words:\", resulted_found_words)\n"
   ]
  },
  {
   "cell_type": "code",
   "execution_count": null,
   "id": "dbd3dc66",
   "metadata": {},
   "outputs": [],
   "source": [
    "#Question 16- Write a Python program to search a literals string in a string and also find the \n",
    "location within the original string where the pattern occurs\n",
    "Sample text : 'The quick brown fox jumps over the lazy dog.'\n",
    "Searched words : 'fox'\n"
   ]
  },
  {
   "cell_type": "code",
   "execution_count": 160,
   "id": "d69759a3",
   "metadata": {},
   "outputs": [
    {
     "name": "stdout",
     "output_type": "stream",
     "text": [
      "The word 'fox' is found at index 16 in the sample text.\n"
     ]
    }
   ],
   "source": [
    "def search_find_location(sample_text, searched_word):\n",
    "    location = sample_text.find(searched_word)\n",
    "    return location\n",
    "\n",
    "\n",
    "sample_text = 'The quick brown fox jumps over the lazy dog.'\n",
    "\n",
    "\n",
    "searched_word = 'fox'\n",
    "\n",
    "\n",
    "location = search_find_location(sample_text, searched_word)\n",
    "\n",
    "if location != -1:\n",
    "    print(f\"The word '{searched_word}' is found at index {location} in the sample text.\")\n",
    "else:\n",
    "    print(f\"The word '{searched_word}' is not found in the sample text.\")\n"
   ]
  },
  {
   "cell_type": "code",
   "execution_count": null,
   "id": "b6a8a2e1",
   "metadata": {},
   "outputs": [],
   "source": [
    "#Question 17- Write a Python program to find the substrings within a string.\n",
    "Sample text : 'Python exercises, PHP exercises, C# exercises'\n",
    "Pattern : 'exercises'.\n"
   ]
  },
  {
   "cell_type": "code",
   "execution_count": 161,
   "id": "888a5481",
   "metadata": {},
   "outputs": [
    {
     "name": "stdout",
     "output_type": "stream",
     "text": [
      "The pattern 'exercises' is found at the following indices: [7, 22, 36]\n"
     ]
    }
   ],
   "source": [
    "def find_the_substrings(sample_text, pattern):\n",
    "    start_index = 0\n",
    "    occurrences = []\n",
    "\n",
    "    while start_index != -1:\n",
    "        start_index = sample_text.find(pattern, start_index)\n",
    "\n",
    "        if start_index != -1:\n",
    "            occurrences.append(start_index)\n",
    "            start_index += 1\n",
    "\n",
    "    return occurrences\n",
    "\n",
    "\n",
    "sample_text = 'Python exercises, PHP exercises, C# exercises'\n",
    "\n",
    "\n",
    "pattern = 'exercises'\n",
    "\n",
    "\n",
    "occurrences = find_the_substrings(sample_text, pattern)\n",
    "\n",
    "if occurrences:\n",
    "    print(f\"The pattern '{pattern}' is found at the following indices: {occurrences}\")\n",
    "else:\n",
    "    print(f\"The pattern '{pattern}' is not found in the sample text.\")\n"
   ]
  },
  {
   "cell_type": "code",
   "execution_count": null,
   "id": "13520418",
   "metadata": {},
   "outputs": [],
   "source": [
    "#Question 18- Write a Python program to find the occurrence and position of the substrings within a string."
   ]
  },
  {
   "cell_type": "code",
   "execution_count": 162,
   "id": "8754ace2",
   "metadata": {},
   "outputs": [
    {
     "name": "stdout",
     "output_type": "stream",
     "text": [
      "The pattern 'projects' occurs 2 times at the following positions: [8, 22]\n"
     ]
    }
   ],
   "source": [
    "def find_occurrences_and_positions(example_text, pattern):\n",
    "    start_index = 0\n",
    "    occurrences = []\n",
    "\n",
    "    while start_index != -1:\n",
    "        start_index = example_text.find(pattern, start_index)\n",
    "\n",
    "        if start_index != -1:\n",
    "            occurrences.append(start_index + 1)  # Adding 1 to make positions 1-indexed\n",
    "            start_index += 1\n",
    "\n",
    "    return len(occurrences), occurrences\n",
    "\n",
    "\n",
    "example_text = 'Python projects, sql projects, Java project'\n",
    "\n",
    "\n",
    "pattern = 'projects'\n",
    "\n",
    "\n",
    "num_occurrences, positions = find_occurrences_and_positions(example_text, pattern)\n",
    "\n",
    "if num_occurrences > 0:\n",
    "    print(f\"The pattern '{pattern}' occurs {num_occurrences} times at the following positions: {positions}\")\n",
    "else:\n",
    "    print(f\"The pattern '{pattern}' is not found in the sample text.\")\n"
   ]
  },
  {
   "cell_type": "code",
   "execution_count": null,
   "id": "42689109",
   "metadata": {},
   "outputs": [],
   "source": [
    "#Question 19- Write a Python program to convert a date of yyyy-mm-dd format to dd-mm-yyyy format."
   ]
  },
  {
   "cell_type": "code",
   "execution_count": 163,
   "id": "c1c37e55",
   "metadata": {},
   "outputs": [],
   "source": [
    "from datetime import datetime\n",
    "\n"
   ]
  },
  {
   "cell_type": "code",
   "execution_count": 164,
   "id": "2e33eb11",
   "metadata": {},
   "outputs": [
    {
     "name": "stdout",
     "output_type": "stream",
     "text": [
      "Original Date: 2022-02-05\n",
      "Converted Date: 05-02-2022\n"
     ]
    }
   ],
   "source": [
    "def change_date_format(input_date):\n",
    "    \n",
    "    parsed_date = datetime.strptime(input_date, '%Y-%m-%d')\n",
    "\n",
    "    \n",
    "    formatted_date = parsed_date.strftime('%d-%m-%Y')\n",
    "\n",
    "    return formatted_date\n",
    "\n",
    "\n",
    "input_date = '2022-02-05'\n",
    "changed_date = change_date_format(input_date)\n",
    "\n",
    "print(f\"Original Date: {input_date}\")\n",
    "print(f\"Converted Date: {changed_date}\")\n"
   ]
  },
  {
   "cell_type": "code",
   "execution_count": null,
   "id": "e8ab892f",
   "metadata": {},
   "outputs": [],
   "source": [
    "#Question 20- Create a function in python to find all decimal numbers with a precision of 1 or 2 in a string. The use of the re.compile() method is mandatory.\n",
    "Sample Text: \"01.12 0132.123 2.31875 145.8 3.01 27.25 0.25\"\n",
    "Expected Output: ['01.12', '145.8', '3.01', '27.25', '0.25']\n"
   ]
  },
  {
   "cell_type": "code",
   "execution_count": 165,
   "id": "24ba2f20",
   "metadata": {},
   "outputs": [],
   "source": [
    "import re\n",
    "\n"
   ]
  },
  {
   "cell_type": "code",
   "execution_count": 168,
   "id": "b614ffa5",
   "metadata": {},
   "outputs": [
    {
     "name": "stdout",
     "output_type": "stream",
     "text": [
      "find_all_decimal_numbers: ['01.12', '145.8', '3.01', '27.25', '0.25']\n"
     ]
    }
   ],
   "source": [
    "def find_all_decimal_numbers(input_text):\n",
    "    \n",
    "    pattern = re.compile(r'\\b\\d+\\.\\d{1,2}\\b')\n",
    "\n",
    "    matches = pattern.findall(input_text)\n",
    "\n",
    "    return matches\n",
    "\n",
    "\n",
    "samp_text = \"01.12 0132.123 2.31875 145.8 3.01 27.25 0.25\"\n",
    "\n",
    "\n",
    "output = find_all_decimal_numbers(samp_text)\n",
    "print(\"find_all_decimal_numbers:\", output)\n"
   ]
  },
  {
   "cell_type": "code",
   "execution_count": null,
   "id": "5ff2ee7e",
   "metadata": {},
   "outputs": [],
   "source": [
    "#Question 21- Write a Python program to separate and print the numbers and their position of a given string."
   ]
  },
  {
   "cell_type": "code",
   "execution_count": 169,
   "id": "fc2a43ad",
   "metadata": {},
   "outputs": [],
   "source": [
    "import re\n",
    "\n"
   ]
  },
  {
   "cell_type": "code",
   "execution_count": 173,
   "id": "b6022cf3",
   "metadata": {},
   "outputs": [
    {
     "name": "stdout",
     "output_type": "stream",
     "text": [
      "Numbers and their Positions:\n",
      "Number: 25, Position: 26\n",
      "Number: 50, Position: 29\n",
      "Number: 3, Position: 53\n"
     ]
    }
   ],
   "source": [
    "import re\n",
    "\n",
    "def extract_numbers_positions(input_string):\n",
    "    \n",
    "    pattern = re.compile(r'\\d+')\n",
    "    matches = pattern.finditer(input_string)\n",
    "\n",
    "   \n",
    "    output = [(match.group(), match.start()) for match in matches]\n",
    "\n",
    "    return output\n",
    "\n",
    "\n",
    "sample_text = \"The price of the item is $12.12, and the quantity is 2.\"\n",
    "\n",
    "\n",
    "output = extract_numbers_positions(sample_text)\n",
    "\n",
    "\n",
    "print(\"Numbers and their Positions:\")\n",
    "for number, position in result:\n",
    "    print(f\"Number: {number}, Position: {position}\")\n"
   ]
  },
  {
   "cell_type": "code",
   "execution_count": null,
   "id": "cf876b52",
   "metadata": {},
   "outputs": [],
   "source": [
    "#Question 22- Write a regular expression in python program to extract maximum/largest numeric value from a string.\n",
    "Sample Text:  'My marks in each semester are: 947, 896, 926, 524, 734, 950, 642'\n",
    "Expected Output: 950\n"
   ]
  },
  {
   "cell_type": "code",
   "execution_count": 175,
   "id": "0fb384bb",
   "metadata": {},
   "outputs": [
    {
     "name": "stdout",
     "output_type": "stream",
     "text": [
      "Maximum Numeric Value: 950\n"
     ]
    }
   ],
   "source": [
    "import re\n",
    "\n",
    "def extract_maximum_numeric_value(input_string):\n",
    "   \n",
    "    numbers = re.findall(r'\\d+', input_string)\n",
    "\n",
    "   \n",
    "    max_numeric_val = max(map(int, numbers), default=None)\n",
    "\n",
    "    return max_numeric_val\n",
    "\n",
    "\n",
    "sample_text = 'My marks in each semester are: 947, 896, 926, 524, 734, 950, 642'\n",
    "\n",
    "\n",
    "result = extract_maximum_numeric_value(sample_text)\n",
    "\n",
    "# Print the result\n",
    "print(\"Maximum Numeric Value:\", result)\n"
   ]
  },
  {
   "cell_type": "code",
   "execution_count": null,
   "id": "77025f57",
   "metadata": {},
   "outputs": [],
   "source": [
    "#Question 23- Create a function in python to insert spaces between words starting with capital letters.\n",
    "Sample Text: “RegularExpressionIsAnImportantTopicInPython\"\n",
    "Expected Output: Regular Expression Is An Important Topic In Python\n"
   ]
  },
  {
   "cell_type": "code",
   "execution_count": 176,
   "id": "dd53273e",
   "metadata": {},
   "outputs": [
    {
     "name": "stdout",
     "output_type": "stream",
     "text": [
      "Regular Expression Is An Important Topic In Python\n"
     ]
    }
   ],
   "source": [
    "import re\n",
    "\n",
    "def insert_spaces_between_capital_letters(input_text):\n",
    "    \n",
    "    pattern = re.compile(r'([A-Z][a-z]*)')\n",
    "    output = pattern.sub(r' \\1', input_text).strip()\n",
    "    return output\n",
    "\n",
    "\n",
    "given_text = \"RegularExpressionIsAnImportantTopicInPython\"\n",
    "\n",
    "\n",
    "output = insert_spaces_between_capital_letters(given_text)\n",
    "\n",
    "\n",
    "print(output)\n"
   ]
  },
  {
   "cell_type": "code",
   "execution_count": null,
   "id": "bf782802",
   "metadata": {},
   "outputs": [],
   "source": [
    "#Question 24- Python regex to find sequences of one upper case letter followed by lower case letters"
   ]
  },
  {
   "cell_type": "code",
   "execution_count": 177,
   "id": "37ba5b84",
   "metadata": {},
   "outputs": [],
   "source": [
    "import re\n",
    "\n"
   ]
  },
  {
   "cell_type": "code",
   "execution_count": 178,
   "id": "d6d828d8",
   "metadata": {},
   "outputs": [
    {
     "name": "stdout",
     "output_type": "stream",
     "text": [
      "['Ab', 'Cd', 'Ef', 'Gh', 'Ij']\n"
     ]
    }
   ],
   "source": [
    "def search_sequences(input_text):\n",
    "    pattern = re.compile(r'[A-Z][a-z]+')\n",
    "    matches = pattern.findall(input_text)\n",
    "    return matches\n",
    "\n",
    "\n",
    "exp_text = \"AbCdEfGhIjK\"\n",
    "output = search_sequences(exp_text)\n",
    "print(output)\n"
   ]
  },
  {
   "cell_type": "code",
   "execution_count": null,
   "id": "4bc2fbf8",
   "metadata": {},
   "outputs": [],
   "source": [
    "#Question 25- Write a Python program to remove continuous duplicate words from Sentence using Regular Expression.\n",
    "Sample Text: \"Hello hello world world\"\n",
    "Expected Output: Hello hello world\n"
   ]
  },
  {
   "cell_type": "code",
   "execution_count": 179,
   "id": "8b7f2eeb",
   "metadata": {},
   "outputs": [],
   "source": [
    "import re\n"
   ]
  },
  {
   "cell_type": "code",
   "execution_count": 180,
   "id": "cb5f13f3",
   "metadata": {},
   "outputs": [
    {
     "name": "stdout",
     "output_type": "stream",
     "text": [
      "Hello world\n"
     ]
    }
   ],
   "source": [
    "\n",
    "def remove_continuous_duplicates(sentence):\n",
    "    \n",
    "    pattern = re.compile(r'\\b(\\w+)(\\s+\\1)+\\b', flags=re.IGNORECASE)\n",
    "    output = pattern.sub(r'\\1', sentence)\n",
    "    return output\n",
    "\n",
    "\n",
    "exp_text = \"Hello hello world world\"\n",
    "\n",
    "output = remove_continuous_duplicates(exp_text)\n",
    "\n",
    "\n",
    "print(output)\n"
   ]
  },
  {
   "cell_type": "code",
   "execution_count": null,
   "id": "2051b122",
   "metadata": {},
   "outputs": [],
   "source": [
    "#Question 26-  Write a python program using RegEx to accept string ending with alphanumeric character."
   ]
  },
  {
   "cell_type": "code",
   "execution_count": 181,
   "id": "19834927",
   "metadata": {},
   "outputs": [],
   "source": [
    "import re\n"
   ]
  },
  {
   "cell_type": "code",
   "execution_count": 185,
   "id": "77f634e3",
   "metadata": {},
   "outputs": [
    {
     "name": "stdout",
     "output_type": "stream",
     "text": [
      "Is 'Bhagya123' ending with alphanumeric? True\n",
      "Is 'Shree!' ending with alphanumeric? False\n",
      "Is '12345' ending with alphanumeric? True\n"
     ]
    }
   ],
   "source": [
    "\n",
    "def ending_with_alphanumeric(input_string):\n",
    "    pattern = re.compile(r'.*[a-zA-Z0-9]$')\n",
    "    return bool(pattern.match(input_string))\n",
    "\n",
    "\n",
    "test_string1 = \"Bhagya123\"\n",
    "test_string2 = \"Shree!\"\n",
    "test_string3 = \"12345\"\n",
    "\n",
    "print(f\"Is '{test_string1}' ending with alphanumeric? {ending_with_alphanumeric(test_string1)}\")\n",
    "print(f\"Is '{test_string2}' ending with alphanumeric? {ending_with_alphanumeric(test_string2)}\")\n",
    "print(f\"Is '{test_string3}' ending with alphanumeric? {ending_with_alphanumeric(test_string3)}\")\n"
   ]
  },
  {
   "cell_type": "code",
   "execution_count": null,
   "id": "b0a84728",
   "metadata": {},
   "outputs": [],
   "source": [
    "#Question 27-Write a python program using RegEx to extract the hashtags.\n",
    "Sample Text:  \"\"\"RT @kapil_kausik: #Doltiwal I mean #xyzabc is \"hurt\" by #Demonetization as the same has rendered USELESS <ed><U+00A0><U+00BD><ed><U+00B1><U+0089> \"acquired funds\" No wo\"\"\"\n",
    "Expected Output: ['#Doltiwal', '#xyzabc', '#Demonetization']\n"
   ]
  },
  {
   "cell_type": "code",
   "execution_count": 186,
   "id": "b17993a4",
   "metadata": {},
   "outputs": [],
   "source": [
    "import re\n"
   ]
  },
  {
   "cell_type": "code",
   "execution_count": 187,
   "id": "ec6c2cb2",
   "metadata": {},
   "outputs": [
    {
     "name": "stdout",
     "output_type": "stream",
     "text": [
      "Extracted Hashtags: ['#Doltiwal', '#xyzabc', '#Demonetization']\n"
     ]
    }
   ],
   "source": [
    "\n",
    "def extract_the_hashtags(input_text):\n",
    "    pattern = re.compile(r'#\\w+')\n",
    "    hashtags = pattern.findall(input_text)\n",
    "    return hashtags\n",
    "\n",
    "\n",
    "sample_text = \"\"\"RT @kapil_kausik: #Doltiwal I mean #xyzabc is \"hurt\" by #Demonetization as the same has rendered USELESS <ed><U+00A0><U+00BD><ed><U+00B1><U+0089> \"acquired funds\" No wo\"\"\"\n",
    "\n",
    "\n",
    "output = extract_the_hashtags(sample_text)\n",
    "\n",
    "\n",
    "print(\"Extracted Hashtags:\", output)\n"
   ]
  },
  {
   "cell_type": "code",
   "execution_count": null,
   "id": "16ce719d",
   "metadata": {},
   "outputs": [],
   "source": [
    "#Question 28- Write a python program using RegEx to remove <U+..> like symbols\n",
    "Check the below sample text, there are strange symbols something of the sort <U+..> all over the place. You need to come up with a general Regex expression that will cover all such symbols.\n",
    "Sample Text: \"@Jags123456 Bharat band on 28??<ed><U+00A0><U+00BD><ed><U+00B8><U+0082>Those who  are protesting #demonetization  are all different party leaders\"\n",
    "Expected Output: @Jags123456 Bharat band on 28??<ed><ed>Those who  are protesting #demonetization  are all different party leaders\n"
   ]
  },
  {
   "cell_type": "code",
   "execution_count": 188,
   "id": "3510d034",
   "metadata": {},
   "outputs": [],
   "source": [
    "import re\n"
   ]
  },
  {
   "cell_type": "code",
   "execution_count": 189,
   "id": "8bdbbdc2",
   "metadata": {},
   "outputs": [
    {
     "name": "stdout",
     "output_type": "stream",
     "text": [
      "cleared_txt: @Jags123456 Bharat band on 28??<ed><ed>Those who  are protesting #demonetization  are all different party leaders\n"
     ]
    }
   ],
   "source": [
    "\n",
    "def remove_unicode_symbols(input_text):\n",
    "    pattern = re.compile(r'<U\\+[0-9A-Fa-f]+>')\n",
    "    cleared_txt = pattern.sub('', input_text)\n",
    "    return cleared_txt\n",
    "\n",
    "\n",
    "exp_txt = \"@Jags123456 Bharat band on 28??<ed><U+00A0><U+00BD><ed><U+00B8><U+0082>Those who  are protesting #demonetization  are all different party leaders\"\n",
    "\n",
    "\n",
    "output = remove_unicode_symbols(exp_txt)\n",
    "\n",
    "\n",
    "print(\"cleared_txt:\", output)\n"
   ]
  },
  {
   "cell_type": "code",
   "execution_count": null,
   "id": "cd7e17d3",
   "metadata": {},
   "outputs": [],
   "source": [
    "#Question 29- Write a python program to extract dates from the text stored in the text file.\n",
    "Sample Text: Ron was born on 12-09-1992 and he was admitted to school 15-12-1999.\n",
    "Note- Store this sample text in the file and then extract dates.\n"
   ]
  },
  {
   "cell_type": "code",
   "execution_count": 190,
   "id": "facf98f8",
   "metadata": {},
   "outputs": [],
   "source": [
    "import re\n"
   ]
  },
  {
   "cell_type": "code",
   "execution_count": 191,
   "id": "f7d601f5",
   "metadata": {},
   "outputs": [
    {
     "name": "stdout",
     "output_type": "stream",
     "text": [
      "Extracted Dates: ['12-09-1992', '15-12-1999']\n"
     ]
    }
   ],
   "source": [
    "\n",
    "def extract_dates_from_file(file_path):\n",
    "    with open(file_path, 'r') as file:\n",
    "        text = file.read()\n",
    "\n",
    "    \n",
    "    pattern = re.compile(r'\\b\\d{2}-\\d{2}-\\d{4}\\b')\n",
    "\n",
    "   \n",
    "    dates = pattern.findall(text)\n",
    "\n",
    "    return dates\n",
    "\n",
    "sample_text = \"Ron was born on 12-09-1992 and he was admitted to school 15-12-1999.\"\n",
    "file_path = \"sample_text_file.txt\"\n",
    "\n",
    "with open(file_path, 'w') as file:\n",
    "    file.write(sample_text)\n",
    "\n",
    "\n",
    "result = extract_dates_from_file(file_path)\n",
    "print(\"Extracted Dates:\", result)\n"
   ]
  },
  {
   "cell_type": "code",
   "execution_count": null,
   "id": "c3c94552",
   "metadata": {},
   "outputs": [],
   "source": [
    "#Question 30- Create a function in python to remove all words from a string of length between 2 and 4.\n",
    "The use of the re.compile() method is mandatory.\n",
    "Sample Text: \"The following example creates an ArrayList with a capacity of 50 elements. 4 elements are then added to the ArrayList and the ArrayList is trimmed accordingly.\"\n",
    "Expected Output:  following example creates ArrayList a capacity elements. 4 elements added ArrayList ArrayList trimmed accordingly.\n",
    "\n"
   ]
  },
  {
   "cell_type": "code",
   "execution_count": 192,
   "id": "d7cb8a73",
   "metadata": {},
   "outputs": [],
   "source": [
    "import re"
   ]
  },
  {
   "cell_type": "code",
   "execution_count": 193,
   "id": "1ff5395c",
   "metadata": {},
   "outputs": [
    {
     "name": "stdout",
     "output_type": "stream",
     "text": [
      "Modified Text: ['12-09-1992', '15-12-1999']\n"
     ]
    }
   ],
   "source": [
    "def remove_words_of_length_between_2_and_4(input_text):\n",
    "   \n",
    "    pattern = re.compile(r'\\b\\w{2,4}\\b')\n",
    "\n",
    "    \n",
    "    output = pattern.sub('', input_text)\n",
    "\n",
    "    return output\n",
    "\n",
    "\n",
    "sample_text = \"The following example creates an ArrayList with a capacity of 50 elements. 4 elements are then added to the ArrayList and the ArrayList is trimmed accordingly.\"\n",
    "\n",
    "\n",
    "output = remove_words_of_length_between_2_and_4(sample_text)\n",
    "print(\"Modified Text:\", result)\n"
   ]
  },
  {
   "cell_type": "code",
   "execution_count": null,
   "id": "8f6fc3e9",
   "metadata": {},
   "outputs": [],
   "source": []
  },
  {
   "cell_type": "code",
   "execution_count": null,
   "id": "379d1120",
   "metadata": {},
   "outputs": [],
   "source": []
  },
  {
   "cell_type": "code",
   "execution_count": null,
   "id": "5721c635",
   "metadata": {},
   "outputs": [],
   "source": []
  },
  {
   "cell_type": "code",
   "execution_count": null,
   "id": "aedc03fe",
   "metadata": {},
   "outputs": [],
   "source": []
  },
  {
   "cell_type": "code",
   "execution_count": null,
   "id": "1d15bac5",
   "metadata": {},
   "outputs": [],
   "source": []
  },
  {
   "cell_type": "code",
   "execution_count": null,
   "id": "20384d42",
   "metadata": {},
   "outputs": [],
   "source": []
  },
  {
   "cell_type": "code",
   "execution_count": null,
   "id": "d3b694dd",
   "metadata": {},
   "outputs": [],
   "source": []
  },
  {
   "cell_type": "code",
   "execution_count": null,
   "id": "72dcb6b8",
   "metadata": {},
   "outputs": [],
   "source": []
  },
  {
   "cell_type": "code",
   "execution_count": null,
   "id": "d7caa1b3",
   "metadata": {},
   "outputs": [],
   "source": []
  },
  {
   "cell_type": "code",
   "execution_count": null,
   "id": "1618c0d9",
   "metadata": {},
   "outputs": [],
   "source": []
  },
  {
   "cell_type": "code",
   "execution_count": null,
   "id": "c4ab6dce",
   "metadata": {},
   "outputs": [],
   "source": []
  },
  {
   "cell_type": "code",
   "execution_count": null,
   "id": "0a6348a4",
   "metadata": {},
   "outputs": [],
   "source": []
  },
  {
   "cell_type": "code",
   "execution_count": null,
   "id": "cd7d7db9",
   "metadata": {},
   "outputs": [],
   "source": []
  },
  {
   "cell_type": "code",
   "execution_count": null,
   "id": "97c2a350",
   "metadata": {},
   "outputs": [],
   "source": []
  },
  {
   "cell_type": "code",
   "execution_count": null,
   "id": "28efffde",
   "metadata": {},
   "outputs": [],
   "source": []
  },
  {
   "cell_type": "code",
   "execution_count": null,
   "id": "d3314b10",
   "metadata": {},
   "outputs": [],
   "source": []
  },
  {
   "cell_type": "code",
   "execution_count": null,
   "id": "a61d9bd7",
   "metadata": {},
   "outputs": [],
   "source": []
  },
  {
   "cell_type": "code",
   "execution_count": null,
   "id": "78910388",
   "metadata": {},
   "outputs": [],
   "source": []
  },
  {
   "cell_type": "code",
   "execution_count": null,
   "id": "eeca1baa",
   "metadata": {},
   "outputs": [],
   "source": []
  },
  {
   "cell_type": "code",
   "execution_count": null,
   "id": "c52f036e",
   "metadata": {},
   "outputs": [],
   "source": []
  },
  {
   "cell_type": "code",
   "execution_count": null,
   "id": "6b595ab0",
   "metadata": {},
   "outputs": [],
   "source": []
  },
  {
   "cell_type": "code",
   "execution_count": null,
   "id": "cf164048",
   "metadata": {},
   "outputs": [],
   "source": []
  },
  {
   "cell_type": "code",
   "execution_count": null,
   "id": "51202519",
   "metadata": {},
   "outputs": [],
   "source": []
  },
  {
   "cell_type": "code",
   "execution_count": null,
   "id": "0a2bc14f",
   "metadata": {},
   "outputs": [],
   "source": []
  },
  {
   "cell_type": "code",
   "execution_count": null,
   "id": "369cfa8e",
   "metadata": {},
   "outputs": [],
   "source": []
  },
  {
   "cell_type": "code",
   "execution_count": null,
   "id": "bf6b15f7",
   "metadata": {},
   "outputs": [],
   "source": []
  },
  {
   "cell_type": "code",
   "execution_count": null,
   "id": "528e4d61",
   "metadata": {},
   "outputs": [],
   "source": []
  },
  {
   "cell_type": "code",
   "execution_count": null,
   "id": "73cfd11f",
   "metadata": {},
   "outputs": [],
   "source": []
  },
  {
   "cell_type": "code",
   "execution_count": null,
   "id": "f760de12",
   "metadata": {},
   "outputs": [],
   "source": []
  },
  {
   "cell_type": "code",
   "execution_count": null,
   "id": "31b29eb1",
   "metadata": {},
   "outputs": [],
   "source": []
  },
  {
   "cell_type": "code",
   "execution_count": null,
   "id": "aa1c2ef1",
   "metadata": {},
   "outputs": [],
   "source": []
  },
  {
   "cell_type": "code",
   "execution_count": null,
   "id": "fe823618",
   "metadata": {},
   "outputs": [],
   "source": []
  },
  {
   "cell_type": "code",
   "execution_count": null,
   "id": "dd229f59",
   "metadata": {},
   "outputs": [],
   "source": []
  },
  {
   "cell_type": "code",
   "execution_count": null,
   "id": "f5e93815",
   "metadata": {},
   "outputs": [],
   "source": []
  },
  {
   "cell_type": "code",
   "execution_count": null,
   "id": "8777db13",
   "metadata": {},
   "outputs": [],
   "source": []
  },
  {
   "cell_type": "code",
   "execution_count": null,
   "id": "43a934f3",
   "metadata": {},
   "outputs": [],
   "source": []
  },
  {
   "cell_type": "code",
   "execution_count": null,
   "id": "ed00446e",
   "metadata": {},
   "outputs": [],
   "source": []
  },
  {
   "cell_type": "code",
   "execution_count": null,
   "id": "d8f10ef1",
   "metadata": {},
   "outputs": [],
   "source": []
  },
  {
   "cell_type": "code",
   "execution_count": null,
   "id": "0de93e2c",
   "metadata": {},
   "outputs": [],
   "source": []
  },
  {
   "cell_type": "code",
   "execution_count": null,
   "id": "b6d15991",
   "metadata": {},
   "outputs": [],
   "source": []
  },
  {
   "cell_type": "code",
   "execution_count": null,
   "id": "ede8d581",
   "metadata": {},
   "outputs": [],
   "source": []
  },
  {
   "cell_type": "code",
   "execution_count": null,
   "id": "8dcb932f",
   "metadata": {},
   "outputs": [],
   "source": []
  },
  {
   "cell_type": "code",
   "execution_count": null,
   "id": "52f1df58",
   "metadata": {},
   "outputs": [],
   "source": []
  },
  {
   "cell_type": "code",
   "execution_count": null,
   "id": "2353a126",
   "metadata": {},
   "outputs": [],
   "source": []
  },
  {
   "cell_type": "code",
   "execution_count": null,
   "id": "cf117e21",
   "metadata": {},
   "outputs": [],
   "source": []
  },
  {
   "cell_type": "code",
   "execution_count": null,
   "id": "f4024ec5",
   "metadata": {},
   "outputs": [],
   "source": []
  },
  {
   "cell_type": "code",
   "execution_count": null,
   "id": "c90b282a",
   "metadata": {},
   "outputs": [],
   "source": []
  },
  {
   "cell_type": "code",
   "execution_count": null,
   "id": "88016c2f",
   "metadata": {},
   "outputs": [],
   "source": []
  },
  {
   "cell_type": "code",
   "execution_count": null,
   "id": "8a52d638",
   "metadata": {},
   "outputs": [],
   "source": []
  },
  {
   "cell_type": "code",
   "execution_count": null,
   "id": "110f147f",
   "metadata": {},
   "outputs": [],
   "source": []
  },
  {
   "cell_type": "code",
   "execution_count": null,
   "id": "a7be1140",
   "metadata": {},
   "outputs": [],
   "source": []
  },
  {
   "cell_type": "code",
   "execution_count": null,
   "id": "a3c9bd67",
   "metadata": {},
   "outputs": [],
   "source": []
  },
  {
   "cell_type": "code",
   "execution_count": null,
   "id": "25957bd1",
   "metadata": {},
   "outputs": [],
   "source": []
  },
  {
   "cell_type": "code",
   "execution_count": null,
   "id": "fa9dbe52",
   "metadata": {},
   "outputs": [],
   "source": []
  },
  {
   "cell_type": "code",
   "execution_count": null,
   "id": "4f8c399e",
   "metadata": {},
   "outputs": [],
   "source": []
  },
  {
   "cell_type": "code",
   "execution_count": null,
   "id": "58003543",
   "metadata": {},
   "outputs": [],
   "source": []
  },
  {
   "cell_type": "code",
   "execution_count": null,
   "id": "4941b4de",
   "metadata": {},
   "outputs": [],
   "source": []
  },
  {
   "cell_type": "code",
   "execution_count": null,
   "id": "9216ec2f",
   "metadata": {},
   "outputs": [],
   "source": []
  },
  {
   "cell_type": "code",
   "execution_count": null,
   "id": "f52a6164",
   "metadata": {},
   "outputs": [],
   "source": []
  },
  {
   "cell_type": "code",
   "execution_count": null,
   "id": "9d93c43c",
   "metadata": {},
   "outputs": [],
   "source": []
  },
  {
   "cell_type": "code",
   "execution_count": null,
   "id": "ea2f0502",
   "metadata": {},
   "outputs": [],
   "source": []
  },
  {
   "cell_type": "code",
   "execution_count": null,
   "id": "6c41d9fa",
   "metadata": {},
   "outputs": [],
   "source": []
  },
  {
   "cell_type": "code",
   "execution_count": null,
   "id": "303257f5",
   "metadata": {},
   "outputs": [],
   "source": []
  },
  {
   "cell_type": "code",
   "execution_count": null,
   "id": "3c51b058",
   "metadata": {},
   "outputs": [],
   "source": []
  },
  {
   "cell_type": "code",
   "execution_count": null,
   "id": "c22c7d9d",
   "metadata": {},
   "outputs": [],
   "source": []
  },
  {
   "cell_type": "code",
   "execution_count": null,
   "id": "e708b153",
   "metadata": {},
   "outputs": [],
   "source": []
  },
  {
   "cell_type": "code",
   "execution_count": null,
   "id": "1506447d",
   "metadata": {},
   "outputs": [],
   "source": []
  },
  {
   "cell_type": "code",
   "execution_count": null,
   "id": "9ffb6d5d",
   "metadata": {},
   "outputs": [],
   "source": []
  },
  {
   "cell_type": "code",
   "execution_count": null,
   "id": "ca039fa8",
   "metadata": {},
   "outputs": [],
   "source": []
  },
  {
   "cell_type": "code",
   "execution_count": null,
   "id": "9a3479a5",
   "metadata": {},
   "outputs": [],
   "source": []
  },
  {
   "cell_type": "code",
   "execution_count": null,
   "id": "0b7926d2",
   "metadata": {},
   "outputs": [],
   "source": []
  },
  {
   "cell_type": "code",
   "execution_count": null,
   "id": "bad5b354",
   "metadata": {},
   "outputs": [],
   "source": []
  },
  {
   "cell_type": "code",
   "execution_count": null,
   "id": "d8325fd6",
   "metadata": {},
   "outputs": [],
   "source": []
  },
  {
   "cell_type": "code",
   "execution_count": null,
   "id": "152226b5",
   "metadata": {},
   "outputs": [],
   "source": []
  },
  {
   "cell_type": "code",
   "execution_count": null,
   "id": "fe27896e",
   "metadata": {},
   "outputs": [],
   "source": []
  },
  {
   "cell_type": "code",
   "execution_count": null,
   "id": "26a11573",
   "metadata": {},
   "outputs": [],
   "source": []
  },
  {
   "cell_type": "code",
   "execution_count": null,
   "id": "4615b32e",
   "metadata": {},
   "outputs": [],
   "source": []
  }
 ],
 "metadata": {
  "kernelspec": {
   "display_name": "Python 3 (ipykernel)",
   "language": "python",
   "name": "python3"
  },
  "language_info": {
   "codemirror_mode": {
    "name": "ipython",
    "version": 3
   },
   "file_extension": ".py",
   "mimetype": "text/x-python",
   "name": "python",
   "nbconvert_exporter": "python",
   "pygments_lexer": "ipython3",
   "version": "3.11.4"
  }
 },
 "nbformat": 4,
 "nbformat_minor": 5
}
